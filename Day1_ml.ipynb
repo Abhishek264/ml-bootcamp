{
  "nbformat": 4,
  "nbformat_minor": 0,
  "metadata": {
    "colab": {
      "name": "Day1_ml",
      "provenance": [],
      "authorship_tag": "ABX9TyNDIgCy1V2W9DXRPR5Juyt6",
      "include_colab_link": true
    },
    "kernelspec": {
      "name": "python3",
      "display_name": "Python 3"
    },
    "language_info": {
      "name": "python"
    }
  },
  "cells": [
    {
      "cell_type": "markdown",
      "metadata": {
        "id": "view-in-github",
        "colab_type": "text"
      },
      "source": [
        "<a href=\"https://colab.research.google.com/github/Abhishek264/ml-bootcamp/blob/main/Day1_ml.ipynb\" target=\"_parent\"><img src=\"https://colab.research.google.com/assets/colab-badge.svg\" alt=\"Open In Colab\"/></a>"
      ]
    },
    {
      "cell_type": "code",
      "metadata": {
        "colab": {
          "base_uri": "https://localhost:8080/"
        },
        "id": "1-3w4a7VJ35N",
        "outputId": "a19e775a-ac23-4351-a564-379e278ce662"
      },
      "source": [
        "import numpy as np\n",
        "a=[1,2,3,4,5]\n",
        "\n",
        "arr1=np.array(a)\n",
        "\n",
        "b=[[1,2,3,4],[5,6,7,8]]\n",
        "arr2=np.array(b)\n",
        "print(arr1)\n",
        "print(arr2)"
      ],
      "execution_count": null,
      "outputs": [
        {
          "output_type": "stream",
          "text": [
            "[1 2 3 4 5]\n",
            "[[1 2 3 4]\n",
            " [5 6 7 8]]\n"
          ],
          "name": "stdout"
        }
      ]
    },
    {
      "cell_type": "code",
      "metadata": {
        "colab": {
          "base_uri": "https://localhost:8080/"
        },
        "id": "GXxpwaDcNpxU",
        "outputId": "50b460de-3a3f-4397-b4b6-6d826030c3d4"
      },
      "source": [
        "print(type(a))"
      ],
      "execution_count": null,
      "outputs": [
        {
          "output_type": "stream",
          "text": [
            "<class 'list'>\n"
          ],
          "name": "stdout"
        }
      ]
    },
    {
      "cell_type": "code",
      "metadata": {
        "colab": {
          "base_uri": "https://localhost:8080/"
        },
        "id": "frX5teYlN8HK",
        "outputId": "0daa6bcb-f004-47a1-8cb2-87aed70ab86f"
      },
      "source": [
        "import numpy as np\n",
        "s=np.arange(1000)\n",
        "print(\"size of each elements of list in bytes\",s.itemsize)"
      ],
      "execution_count": null,
      "outputs": [
        {
          "output_type": "stream",
          "text": [
            "size of each elements of list in bytes 8\n"
          ],
          "name": "stdout"
        }
      ]
    },
    {
      "cell_type": "code",
      "metadata": {
        "colab": {
          "base_uri": "https://localhost:8080/"
        },
        "id": "ZIn3VBWeQ5m8",
        "outputId": "e8e42a06-769a-4214-be8e-dff26c40e774"
      },
      "source": [
        "import numpy as np\n",
        "import time\n",
        "arr1=np.arange(1000)\n",
        "arr2=np.arange(1000)\n",
        "start=time.time()\n",
        "arr_mul=arr1*arr2\n",
        "end=time.time()\n",
        "print(\"total time taken is\",end-start)\n"
      ],
      "execution_count": null,
      "outputs": [
        {
          "output_type": "stream",
          "text": [
            "total time taken is 0.00011086463928222656\n"
          ],
          "name": "stdout"
        }
      ]
    },
    {
      "cell_type": "code",
      "metadata": {
        "id": "UJn7SgmtSMQQ",
        "colab": {
          "base_uri": "https://localhost:8080/"
        },
        "outputId": "986d295a-9a6b-4d2e-f61a-e2b80b2cfdb2"
      },
      "source": [
        "import numpy as np\n",
        "arr1=np.zeros((2,2))\n",
        "print(arr1)"
      ],
      "execution_count": 2,
      "outputs": [
        {
          "output_type": "stream",
          "text": [
            "[[0. 0.]\n",
            " [0. 0.]]\n"
          ],
          "name": "stdout"
        }
      ]
    },
    {
      "cell_type": "code",
      "metadata": {
        "id": "Ca8NW-s-FFqi"
      },
      "source": [
        "import pandas as pd\n",
        "web=pd.read_html(\"https://en.wikipedia.org/wiki/States_and_union_territories_of_India\")[3]"
      ],
      "execution_count": 3,
      "outputs": []
    },
    {
      "cell_type": "code",
      "metadata": {
        "colab": {
          "base_uri": "https://localhost:8080/",
          "height": 408
        },
        "id": "GapzfoJvQ-dv",
        "outputId": "08821a44-9945-4fcc-8589-80079ae84e9f"
      },
      "source": [
        "web.head()"
      ],
      "execution_count": 4,
      "outputs": [
        {
          "output_type": "execute_result",
          "data": {
            "text/html": [
              "<div>\n",
              "<style scoped>\n",
              "    .dataframe tbody tr th:only-of-type {\n",
              "        vertical-align: middle;\n",
              "    }\n",
              "\n",
              "    .dataframe tbody tr th {\n",
              "        vertical-align: top;\n",
              "    }\n",
              "\n",
              "    .dataframe thead th {\n",
              "        text-align: right;\n",
              "    }\n",
              "</style>\n",
              "<table border=\"1\" class=\"dataframe\">\n",
              "  <thead>\n",
              "    <tr style=\"text-align: right;\">\n",
              "      <th></th>\n",
              "      <th>State</th>\n",
              "      <th>ISO 3166-2:IN</th>\n",
              "      <th>Vehiclecode</th>\n",
              "      <th>Zone</th>\n",
              "      <th>Capital</th>\n",
              "      <th>Largest city</th>\n",
              "      <th>Statehood</th>\n",
              "      <th>Population(census 2011)[citation needed]</th>\n",
              "      <th>Area(km2)</th>\n",
              "      <th>Officiallanguages[39]</th>\n",
              "      <th>Additional officiallanguages[39]</th>\n",
              "    </tr>\n",
              "  </thead>\n",
              "  <tbody>\n",
              "    <tr>\n",
              "      <th>0</th>\n",
              "      <td>Andhra Pradesh</td>\n",
              "      <td>IN-AP</td>\n",
              "      <td>AP</td>\n",
              "      <td>Southern</td>\n",
              "      <td>Visakhapatnam (Administrative)[40]Amaravati (L...</td>\n",
              "      <td>Visakhapatnam</td>\n",
              "      <td>1 November 1956</td>\n",
              "      <td>49506799</td>\n",
              "      <td>160205</td>\n",
              "      <td>Telugu</td>\n",
              "      <td>—</td>\n",
              "    </tr>\n",
              "    <tr>\n",
              "      <th>1</th>\n",
              "      <td>Arunachal Pradesh</td>\n",
              "      <td>IN-AR</td>\n",
              "      <td>AR</td>\n",
              "      <td>North-Eastern</td>\n",
              "      <td>Itanagar</td>\n",
              "      <td>Itanagar</td>\n",
              "      <td>20 February 1987</td>\n",
              "      <td>1383727</td>\n",
              "      <td>83743</td>\n",
              "      <td>English</td>\n",
              "      <td>—</td>\n",
              "    </tr>\n",
              "    <tr>\n",
              "      <th>2</th>\n",
              "      <td>Assam</td>\n",
              "      <td>IN-AS</td>\n",
              "      <td>AS</td>\n",
              "      <td>North-Eastern</td>\n",
              "      <td>Dispur</td>\n",
              "      <td>Guwahati</td>\n",
              "      <td>26 January 1950</td>\n",
              "      <td>31205576</td>\n",
              "      <td>78550</td>\n",
              "      <td>Assamese</td>\n",
              "      <td>Bengali, Bodo</td>\n",
              "    </tr>\n",
              "    <tr>\n",
              "      <th>3</th>\n",
              "      <td>Bihar</td>\n",
              "      <td>IN-BR</td>\n",
              "      <td>BR</td>\n",
              "      <td>Eastern</td>\n",
              "      <td>Patna</td>\n",
              "      <td>Patna</td>\n",
              "      <td>26 January 1950</td>\n",
              "      <td>104099452</td>\n",
              "      <td>94163</td>\n",
              "      <td>Hindi</td>\n",
              "      <td>Urdu</td>\n",
              "    </tr>\n",
              "    <tr>\n",
              "      <th>4</th>\n",
              "      <td>Chhattisgarh</td>\n",
              "      <td>IN-CT</td>\n",
              "      <td>CG</td>\n",
              "      <td>Central</td>\n",
              "      <td>Nava Raipur</td>\n",
              "      <td>Raipur</td>\n",
              "      <td>1 November 2000</td>\n",
              "      <td>25545198</td>\n",
              "      <td>135194</td>\n",
              "      <td>Hindi</td>\n",
              "      <td>Chhattisgarhi</td>\n",
              "    </tr>\n",
              "  </tbody>\n",
              "</table>\n",
              "</div>"
            ],
            "text/plain": [
              "               State  ... Additional officiallanguages[39]\n",
              "0     Andhra Pradesh  ...                                —\n",
              "1  Arunachal Pradesh  ...                                —\n",
              "2              Assam  ...                    Bengali, Bodo\n",
              "3              Bihar  ...                             Urdu\n",
              "4       Chhattisgarh  ...                    Chhattisgarhi\n",
              "\n",
              "[5 rows x 11 columns]"
            ]
          },
          "metadata": {
            "tags": []
          },
          "execution_count": 4
        }
      ]
    },
    {
      "cell_type": "code",
      "metadata": {
        "id": "qp56R10jRBGx"
      },
      "source": [
        "excel=pd.read_excel(\"/content/ex1.xlsx\")"
      ],
      "execution_count": 5,
      "outputs": []
    },
    {
      "cell_type": "code",
      "metadata": {
        "colab": {
          "base_uri": "https://localhost:8080/",
          "height": 142
        },
        "id": "FRnn6CHaR6nB",
        "outputId": "abd10197-7255-492f-c507-57b6be1f0742"
      },
      "source": [
        "excel.head()"
      ],
      "execution_count": 7,
      "outputs": [
        {
          "output_type": "execute_result",
          "data": {
            "text/html": [
              "<div>\n",
              "<style scoped>\n",
              "    .dataframe tbody tr th:only-of-type {\n",
              "        vertical-align: middle;\n",
              "    }\n",
              "\n",
              "    .dataframe tbody tr th {\n",
              "        vertical-align: top;\n",
              "    }\n",
              "\n",
              "    .dataframe thead th {\n",
              "        text-align: right;\n",
              "    }\n",
              "</style>\n",
              "<table border=\"1\" class=\"dataframe\">\n",
              "  <thead>\n",
              "    <tr style=\"text-align: right;\">\n",
              "      <th></th>\n",
              "      <th>Unnamed: 0</th>\n",
              "      <th>a</th>\n",
              "      <th>b</th>\n",
              "      <th>c</th>\n",
              "      <th>d</th>\n",
              "      <th>message</th>\n",
              "    </tr>\n",
              "  </thead>\n",
              "  <tbody>\n",
              "    <tr>\n",
              "      <th>0</th>\n",
              "      <td>0</td>\n",
              "      <td>1</td>\n",
              "      <td>2</td>\n",
              "      <td>3</td>\n",
              "      <td>4</td>\n",
              "      <td>hello</td>\n",
              "    </tr>\n",
              "    <tr>\n",
              "      <th>1</th>\n",
              "      <td>1</td>\n",
              "      <td>5</td>\n",
              "      <td>6</td>\n",
              "      <td>7</td>\n",
              "      <td>8</td>\n",
              "      <td>world</td>\n",
              "    </tr>\n",
              "    <tr>\n",
              "      <th>2</th>\n",
              "      <td>2</td>\n",
              "      <td>9</td>\n",
              "      <td>10</td>\n",
              "      <td>11</td>\n",
              "      <td>12</td>\n",
              "      <td>foo</td>\n",
              "    </tr>\n",
              "  </tbody>\n",
              "</table>\n",
              "</div>"
            ],
            "text/plain": [
              "   Unnamed: 0  a   b   c   d message\n",
              "0           0  1   2   3   4   hello\n",
              "1           1  5   6   7   8   world\n",
              "2           2  9  10  11  12     foo"
            ]
          },
          "metadata": {
            "tags": []
          },
          "execution_count": 7
        }
      ]
    },
    {
      "cell_type": "code",
      "metadata": {
        "id": "9oTKQHKFSUZ0"
      },
      "source": [
        ""
      ],
      "execution_count": null,
      "outputs": []
    }
  ]
}